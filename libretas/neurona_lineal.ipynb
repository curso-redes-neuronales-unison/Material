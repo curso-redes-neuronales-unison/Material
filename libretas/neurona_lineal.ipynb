{
 "cells": [
  {
   "cell_type": "markdown",
   "metadata": {
    "nbpresent": {
     "id": "612a3433-b308-4e23-a0c4-72a39b82dcc0"
    }
   },
   "source": [
    "<img src=\"imagenes/rn3.png\" width=\"200\">\n",
    "<img src=\"http://www.identidadbuho.uson.mx/assets/letragrama-rgb-150.jpg\" width=\"200\">"
   ]
  },
  {
   "cell_type": "markdown",
   "metadata": {
    "nbpresent": {
     "id": "7df09011-0dcf-4e74-a3c7-261d8127c598"
    }
   },
   "source": [
    "# [Curso de Redes Neuronales](https://curso-redes-neuronales-unison.github.io/Temario/)\n",
    "\n",
    "# Una sola neurona lineal\n",
    "\n",
    "[**Julio Waissman Vilanova**](http://mat.uson.mx/~juliowaissman/), 10 de febrero de 2018.\n",
    "\n",
    "En esta libreta vamos a revisar los aspectos básicos del aprendizaje para una sola neurona de salida lineal, sin capas ocultas y usando el criterio de pérdida MSE. El algoritmo es muy simple pero es importante tener claro lo que se requiere antes de pasar a cosas más complicadas.\n",
    "\n",
    "Empecemos por inicializar los modulos que vamos a requerir."
   ]
  },
  {
   "cell_type": "code",
   "execution_count": null,
   "metadata": {
    "collapsed": true,
    "nbpresent": {
     "id": "d287e91a-21e8-4445-b10c-a976fae38dcd"
    }
   },
   "outputs": [],
   "source": [
    "%matplotlib inline\n",
    "import numpy as np\n",
    "import matplotlib.pyplot as plt\n",
    "\n",
    "plt.rcParams['figure.figsize'] = (20,10)\n",
    "plt.style.use('ggplot')\n"
   ]
  },
  {
   "cell_type": "markdown",
   "metadata": {
    "nbpresent": {
     "id": "32055157-3285-4624-a3a9-eebf624bafbc"
    }
   },
   "source": [
    "# 1. Un ejemplo en una sola dimensión\n",
    "\n",
    "Una función muy importante para poder realizar aprendizaje máquina es la capacidad de poder manejar, cargar y guardar datos. en esta libreta vamos a empezar con lo más básico: leer datos desde un archivo texto (o un archivo.cvs). Más adelante revisaremos como recolectar datos de internet, de archivos tipo excel o de bases de datos.\n",
    "\n",
    "*Numpy* cuenta con varios métodos para leer y guardar datos. La más utilizada para cargar datos provenientes de un archivo de texto es `loadtxt`. Para obtener la documentación de la función, simplemente ejecuta la celda siguiente: "
   ]
  },
  {
   "cell_type": "code",
   "execution_count": null,
   "metadata": {
    "collapsed": true,
    "nbpresent": {
     "id": "443b470d-4a03-40bc-9b3a-99cfec1cf5ec"
    }
   },
   "outputs": [],
   "source": [
    "np.loadtxt?"
   ]
  },
  {
   "cell_type": "markdown",
   "metadata": {
    "nbpresent": {
     "id": "f3f1aeee-63f3-433e-af57-3464dfa57bf2"
    }
   },
   "source": [
    "Es importante ver que esta función directamente carga los datos existentes en el archivo en un `ndarray`. ¿Y si tenemos uno o varios `ndarrays` con las cosas que hemos desarrollado y los queremos guardar en disco (por ejemplo el vector $\\omega$ de parámetros)? \n",
    "\n",
    "Vamos a abrir y a visualizar unos datos que se encuentran en el archivo `carretas.txt` (abrelos con un editor de texto si quieres ver el archivo original). En este archivo se tiene las ganancias anuales (en dolares) de unos tacos de carreta (bueno, su equivalente gringo) respecto al tamaño de la ciudad donde se encuentra la carreta. Estos datos provienen de el curso de *Machine learning* de *coursera* de *Andrew Ng*.\n"
   ]
  },
  {
   "cell_type": "code",
   "execution_count": null,
   "metadata": {
    "nbpresent": {
     "id": "e516bd0b-925c-4dd0-bdc9-5e7478b32b92"
    }
   },
   "outputs": [],
   "source": [
    "# Lee los datos en un nd array llamado datos\n",
    "datos = np.loadtxt('datos/carretas.txt', comments='%', delimiter=',')\n",
    "\n",
    "# Separa los datos de entrada de los de salida.\n",
    "# si decimos que x = datos[:,0], pues se toma solo una columna de datos,\n",
    "# por lo que x sería un ndarray de forma (shape) (96,). Al decir x = datos[:, 0:1] \n",
    "# significa que vamos a tomar todas las columnas de 0 a una antes de 1, por lo\n",
    "# que x tiene una forma (96, 1). Para mantener generalidad, es mejor manejar x xomo una matriz\n",
    "# de una sola columna que como un vector de una dimensión.\n",
    "x, y = datos[:,0:1], datos[:,1]\n",
    "\n",
    "# T es el número de instancias y n el de atributos\n",
    "T, n = x.shape\n",
    "\n",
    "plt.plot(x, y, 'ro')\n",
    "plt.title(u'Ganancias anuales de una carreta de acuerdo al tamaño de una ciudad')\n",
    "plt.xlabel(r\"Poblaci$\\'o$n ($\\times 10^4$ habitantes)\")\n",
    "plt.ylabel(r'Beneficios ($\\times 10^4$ dolares)')"
   ]
  },
  {
   "cell_type": "markdown",
   "metadata": {
    "nbpresent": {
     "id": "84929073-7b33-4814-9623-01a4b5d70b29"
    }
   },
   "source": [
    "Listo, ya temos los datos. La hipótesis que hacemos es que el valor de salida lo podemos estimar como\n",
    "\n",
    "$$\n",
    "\\hat{y}^{(i)} = h_\\omega(x^{(i)}) = \\omega_1 x^{(i)} + b\n",
    "$$\n"
   ]
  },
  {
   "cell_type": "markdown",
   "metadata": {
    "nbpresent": {
     "id": "e5c3574f-e76f-4ada-bb64-5fa17b179ef6"
    }
   },
   "source": [
    "El criterio MSE como función de pérdida es el de minimizar el costo definido como\n",
    "$$\n",
    "Loss(\\omega, b) = \\frac{1}{2M} \\sum_{i = 1}^M (y^{(i)} - \\hat{y}^{(i)})^2.\n",
    "$$\n",
    "\n",
    "Por lo tanto, para saber si estamos minimizando o no, debemos ser capaces de medir la función de pérdida. \n",
    "\n",
    "**Desarrolla la función de pérdida tal como se pide abajo**"
   ]
  },
  {
   "cell_type": "code",
   "execution_count": null,
   "metadata": {
    "collapsed": true,
    "nbpresent": {
     "id": "68dc55a5-85cf-4240-814a-b8ae43356bdd"
    }
   },
   "outputs": [],
   "source": [
    "def mse_loss(x, y, w, b):\n",
    "    \"\"\"\n",
    "    Calcula el costo de acuerdo al criterio de MSE (mean square error) asumiendo un conjunto de datos\n",
    "    x, con una salida y, y una hipótesis lineal parametrizada por omega\n",
    "    \n",
    "    Parámetros\n",
    "    ----------\n",
    "    x: Un ndarray de dimension (M, n)\n",
    "    y: Un ndarray de dimensión (M, )\n",
    "    w: Un ndarray de dimensión (n, )\n",
    "    b: Un flotante\n",
    "    \n",
    "    Devuelve\n",
    "    --------\n",
    "    Un flotante con el costo\n",
    "    \n",
    "    \"\"\"\n",
    "    M, n = x.shape\n",
    "        \n",
    "    # Puedes hacerlo en forma de ciclos\n",
    "    # J = 0\n",
    "    # for instancia in range(M):\n",
    "    #    J += --inserta aqui tu código--\n",
    "    # return --inserta aquí tu código--\n",
    "\n",
    "    \n",
    "    # Puedes hacerlo directamente en forma matricial\n",
    "    # error = --aqui se inserta código--\n",
    "    # return --aqui se inserta código--\n",
    "    \n",
    "    "
   ]
  },
  {
   "cell_type": "markdown",
   "metadata": {
    "nbpresent": {
     "id": "c9bfb1fd-9db7-41fb-9044-766d4a898410"
    }
   },
   "source": [
    "y para probar si está bien el programa, si calculamos $Loss(\\omega, b)$ para $\\omega_1 = 0$, $b = 0$ debe de dar (para este conjunto de datos) **26.73** (recuerda verificar que regrese un flotante y no un vector de un solo elemento)."
   ]
  },
  {
   "cell_type": "code",
   "execution_count": null,
   "metadata": {
    "nbpresent": {
     "id": "64a85cb2-4f88-4ac8-8f8a-5232a8af8979"
    }
   },
   "outputs": [],
   "source": [
    "w = np.zeros([n])\n",
    "b = 1\n",
    "print(\"La pérdida es {}\".format(mse_loss(x, y, w, b)))"
   ]
  },
  {
   "cell_type": "markdown",
   "metadata": {
    "nbpresent": {
     "id": "78d03523-4deb-447d-9bed-0ca6cbab85c5"
    }
   },
   "source": [
    "Muy bien, ya podemos calcular el criterio a optimizar (la función de pérdida). Vamos entonces a utilizar la función que acabamos de hacer para ver sus valores para diferentes valores de $\\omega$ y $b$."
   ]
  },
  {
   "cell_type": "code",
   "execution_count": null,
   "metadata": {
    "nbpresent": {
     "id": "2821cc16-3317-49e0-886e-3b3da2aa201d"
    }
   },
   "outputs": [],
   "source": [
    "# Definimos una función que depende solo de b y theta1\n",
    "def costo_w(b, w1):\n",
    "    return mse_loss(x, y, np.array([w1]), b)\n",
    "\n",
    "# Y ahora la convertimos en una función tipo numpy (aplica para cualquier entrada de ndarrays)\n",
    "costo_vect = np.frompyfunc(costo_w, 2, 1)\n",
    "\n",
    "#Ahora generamos la lista de valores para graficar\n",
    "b = np.linspace(-15, 10, 100);\n",
    "w1 = np.linspace(-2, 4, 100);\n",
    "\n",
    "# Y los convertimos en matrices utilizando la función meshgrid\n",
    "b, w1 = np.meshgrid(b, w1)\n",
    "\n",
    "# Y calculamos los costos para cada par de theta0 y theta 1 con nuestra nueva funcion de costos vectorizada\n",
    "J = costo_vect(b, w1)\n",
    "\n",
    "# Y graficamos el contorno\n",
    "plt.contour(b, w1, J, 80, linewidths=0.5, colors='k')\n",
    "plt.contourf(b, w1, J, 80, cmap=plt.cm.rainbow, vmax=J.max(), vmin=J.min())\n",
    "plt.colorbar()\n",
    "plt.xlabel(\"$b$\")\n",
    "plt.ylabel(\"$\\omega_1$\")\n",
    "plt.title(\"Funcion de perdida\")\n",
    "plt.show()"
   ]
  },
  {
   "cell_type": "markdown",
   "metadata": {
    "nbpresent": {
     "id": "3703537f-284d-44ae-bf3d-83e984f223d8"
    }
   },
   "source": [
    "Ahora si, ya tenemos todo para hacer nuestra función para encontrar los parámetros que optimicen la función de costo (que como se puede ver en la superficie debería de estar por donde $b$ vale entre 0 y -5 y $\\omega_1$ entre 1 y 2). \n",
    "\n",
    "**Desarrolla la función con descenso de gradiente.**"
   ]
  },
  {
   "cell_type": "code",
   "execution_count": null,
   "metadata": {
    "collapsed": true,
    "nbpresent": {
     "id": "39f5c566-9416-4ad4-8a1a-b85919595392"
    }
   },
   "outputs": [],
   "source": [
    "def grad_costo(x, y, w, b):\n",
    "    \"\"\"\n",
    "    Calcula el gradiente respecto a w y b de los datos existentes\n",
    "    \n",
    "    Parámetros\n",
    "    ----------\n",
    "    x: ndarray de dimension [M, n] con los datos de entrada\n",
    "    y: ndarray de dimension [M,] con los datos de salida\n",
    "    w: ndarray de dimension [n, ] con los pesos \n",
    "    b: flotante con el sesgo \n",
    "    \n",
    "    Devuelve\n",
    "    --------\n",
    "    dw, db: donde dw es un vector de dimension de w con el gradiente\n",
    "            de la función de costo respecto a w, y db es la derivada de la\n",
    "            funcion de costo respecto a b\n",
    "\n",
    "    \"\"\"\n",
    "    error = y - (x @ w + b)\n",
    "\n",
    "    # --aqui hay que poner código--        \n",
    "\n",
    "    \n",
    "    \n",
    "    #------------------------------\n",
    "\n",
    "    return dw, db \n",
    "\n",
    "def descenso_gradiente_lotes(x, y, w_0, b_0, alpha, num_iter):\n",
    "    \"\"\"\n",
    "    Descenso de gradiente durante num_iter iteraciones para regresión lineal\n",
    "    \n",
    "    Parámetros\n",
    "    -----------\n",
    "    x: ndarray de dimension [M, n] con los datos de entrada\n",
    "    y: ndarray de dimension [M,] con los datos de salida\n",
    "    w_0: ndarray de dimension [n, ] con los pesos iniciales\n",
    "    b_0: flotante con el sesgo inicial\n",
    "    alpha: flotante con tamaño de paso o tasa de aprendizaje.\n",
    "    num_iter: numero de iteraciones (entero)\n",
    "    \n",
    "    Devuelve\n",
    "    --------\n",
    "    w, b, mse_iter: donde w y b tiene las dimensiones de w_0 y b_0 con los parámetros \n",
    "                    aprendidos, mientras que mse_hist es un ndarray de dimensión \n",
    "                    [num_iter, 1] con el costo en cada iteración.\n",
    "    \n",
    "    \"\"\"\n",
    "    w, b = w_0.copy(), b_0\n",
    "    mse_iter = np.zeros(num_iter)    \n",
    "    M, n = x.shape\n",
    "    \n",
    "    for iter in range(num_iter):\n",
    "        \n",
    "        dw, db = grad_costo(x, y, w, b)\n",
    "        \n",
    "        # --aqui hay que poner código--        \n",
    "\n",
    "\n",
    "        \n",
    "        \n",
    "        #------------------------------\n",
    "        \n",
    "        mse_iter[iter] = mse_loss(x, y, w, b)\n",
    "\n",
    "    return w, b, mse_iter\n",
    "     "
   ]
  },
  {
   "cell_type": "markdown",
   "metadata": {
    "nbpresent": {
     "id": "69c2ff8d-aebd-4f05-9d5b-7572464afbda"
    }
   },
   "source": [
    "Y para saber si el algoritmo se programo bien, se puede probar en el problema del *food truck* y revisar si el valor de la función de pérdida se va reduciendo hasta estabilizarse en un mínimo."
   ]
  },
  {
   "cell_type": "code",
   "execution_count": null,
   "metadata": {
    "nbpresent": {
     "id": "c96696ca-416d-4c2d-9292-76a356ac277e"
    }
   },
   "outputs": [],
   "source": [
    "w_0 = np.zeros((n,))\n",
    "b_0 = 0.0\n",
    "\n",
    "iteraciones = 1500\n",
    "alpha = 0.01\n",
    "\n",
    "w, b, mse_historial = descenso_gradiente_lotes(x, y, w_0, b_0, alpha, iteraciones)\n",
    "\n",
    "print(\"w1 = {} y b= {} al final\".format(w[0], b))\n",
    "\n",
    "plt.plot(mse_historial, 'b')\n",
    "plt.title(u'MSE por iteración')\n",
    "plt.xlabel(u'iteración')\n",
    "plt.ylabel(r'$Loss(\\omega, b)$')"
   ]
  },
  {
   "cell_type": "markdown",
   "metadata": {
    "nbpresent": {
     "id": "4346d211-5f5d-4b49-ac2a-75e020a8d480"
    }
   },
   "source": [
    "Ahora vamos a revisar virtualmente si la estimación es una linea recta que pasa entre todos los puntos.\n",
    "\n",
    "**Completa los pasos para realizar la estimación.**"
   ]
  },
  {
   "cell_type": "code",
   "execution_count": null,
   "metadata": {
    "nbpresent": {
     "id": "5ca69ea6-8398-4ee7-b899-27a6a3271336"
    }
   },
   "outputs": [],
   "source": [
    "x_estimar = np.array([[4],[24]])\n",
    "#\n",
    "# Agrega el codigo necesario\n",
    "#\n",
    "# y_estimado = --aquí hay que poner código--\n",
    "\n",
    "print(\"Los valores estimados son: {}\".format(y_estimado))"
   ]
  },
  {
   "cell_type": "markdown",
   "metadata": {
    "nbpresent": {
     "id": "dc65fed1-fc9b-4ae1-a2cb-9ee9ca087146"
    }
   },
   "source": [
    "Si los valores que obtuviste son cercanos a 1 (10000 dolares) y 24.3 (243000 dolares) entonces estamos en los valores esperados. Ahora vamos a usar estos valores para graficar los datos reales y la estimación realizada:"
   ]
  },
  {
   "cell_type": "code",
   "execution_count": null,
   "metadata": {
    "nbpresent": {
     "id": "3dd5dfd8-e06f-4c98-b29b-440c505ff043"
    }
   },
   "outputs": [],
   "source": [
    "plt.plot(x[:], y, 'xr')\n",
    "plt.plot(x_estimar[:,0], y_estimado, '-b')\n",
    "plt.title(u'Ganancias anuales de una carreta de acuerso al tamaño de una ciudad')\n",
    "plt.xlabel(r\"Poblaci$\\'o$n ($\\times 10^4$ habitantes)\")\n",
    "plt.ylabel(r'Beneficios ($\\times 10^4$ dolares)')"
   ]
  },
  {
   "cell_type": "markdown",
   "metadata": {
    "nbpresent": {
     "id": "a936bec6-c558-4353-a947-859ade970a96"
    }
   },
   "source": [
    "**Felicidades** Acabas de terminar el primer algoritmo de aprendizaje (y el más usado en el mundo)."
   ]
  },
  {
   "cell_type": "markdown",
   "metadata": {
    "nbpresent": {
     "id": "8d33505d-923a-47b7-95a0-1ef4fc35a585"
    }
   },
   "source": [
    "# 2. Un ejemplo en multiples dimensiones\n",
    "\n",
    "Como el algortimo realizado ya funciona para muchas dimensiones, no se espera tener mucho problema para utilizarlos. Así que ahora vamos a cargar datos y vamos a graficar la salida respecto a dos variables"
   ]
  },
  {
   "cell_type": "code",
   "execution_count": null,
   "metadata": {
    "nbpresent": {
     "id": "276c8c78-e1b0-4eab-aa24-3f633b3e6b68"
    }
   },
   "outputs": [],
   "source": [
    "datos = np.loadtxt('datos/casas_portland.txt', comments='%', delimiter=',')\n",
    "x, y = datos[:, :-1], datos[:,-1] \n",
    "\n",
    "# M es el número de instancias y n el de atributos\n",
    "M, n = x.shape\n",
    "\n",
    "plt.plot(x[:,0], y, 'rx')\n",
    "plt.title(u'Costo de una casa en relación a su tamaño')\n",
    "plt.xlabel(u\"tamaño (pies cuadrados)\")\n",
    "plt.ylabel('costo ')\n",
    "\n",
    "plt.figure()\n",
    "plt.plot(x[:,1], y, 'rx')\n",
    "plt.title(u'Costo de una casa en relación al número de cuartos')\n",
    "plt.xlabel(\"cuartos\")\n",
    "\n"
   ]
  },
  {
   "cell_type": "markdown",
   "metadata": {
    "nbpresent": {
     "id": "a12ee239-a864-4064-b5d9-a4a798772e03"
    }
   },
   "source": [
    "Antes de realizar el aprendizaje podemos ver que mientras una de las variables se mide en miles de pies cuadrados, la otra variable tiene valores de 1 a 4. Esto es un problema para el algoritmo del descenso de gradiente, por lo que es necesario normalizar los datos (solo para este algoritmo) y que funcione de manera correcta. \n",
    "\n",
    "Para normalizar requerimos de dos pasos, por un lado, obtener los valores de medias y desviaciones estandares por atributo, y en segundo lugar, realizar la normalización. Los valores de medias y desviaciones estandares hay que guardarlos, ya que serán necesarios para poder normalizar los datos que se quiera estimar.\n",
    "\n",
    "**Escribe la función que devuelve los valores de medias t desviaciones estandares.**"
   ]
  },
  {
   "cell_type": "code",
   "execution_count": null,
   "metadata": {
    "nbpresent": {
     "id": "b5211555-ecb2-493d-9be7-fb48dd33a895"
    }
   },
   "outputs": [],
   "source": [
    "def obtiene_medias_desviaciones(x):\n",
    "    \"\"\"\n",
    "    Obtiene las medias y las desviaciones estandar atributo a atributo.\n",
    "    \n",
    "    Parámetros\n",
    "    ----------\n",
    "    x: un ndarray de dimensión (T, n) donde T es el númro de elementos y \n",
    "       n el número de atributos\n",
    "    \n",
    "    Devuelve\n",
    "    ---------\n",
    "    medias, desviaciones: donde ambos son ndarrays de dimensiones (n,) con \n",
    "                          las medias y las desviaciones estandar respectivamente.\n",
    "    \n",
    "    \"\"\"\n",
    "    # Escribe aqui el código\n",
    "    #\n",
    "    #\n",
    "    #    \n",
    "\n",
    "    \n",
    "def normaliza(x, medias, desviaciones):\n",
    "    \"\"\"\n",
    "    Normaliza los datos x\n",
    "\n",
    "    Parámetros\n",
    "    ----------\n",
    "    x: un ndarray de dimensión (T, n) donde T es el númro de elementos y n el número de atributos\n",
    "    medias: ndarray de dimensiones (n,) con las medias con las que se normalizará\n",
    "    desviaciones: ndarray de dimensiones (n,) con las desviaciones con las que se normalizará\n",
    "    \n",
    "    Devuelve\n",
    "    --------\n",
    "    x_norm, un ndarray de las mismas dimensiones de x pero normalizado\n",
    "    \n",
    "    \"\"\"\n",
    "    return (x - medias) / desviaciones\n",
    "        \n",
    "\n",
    "# Y ahora vamos a hacer algo muy simple para probar, que pueden corroborar con el uso de una calculadora común.\n",
    "x_prueba = np.array([[1, 300],\n",
    "                    [3, 100],\n",
    "                    [2, 400],\n",
    "                    [4, 200]])\n",
    "m, d = obtiene_medias_desviaciones(x_prueba)\n",
    "\n",
    "print(\"Los datos son: \\n{}\".format(x_prueba))\n",
    "print(\"Las medias son: \\n{}\".format(m))\n",
    "print(\"Las desviaciones son: \\n{}\".format(d))\n",
    "print(\"Los datos normalizados son: \\n{}\".format(normaliza(x_prueba, m, d)))\n"
   ]
  },
  {
   "cell_type": "markdown",
   "metadata": {
    "nbpresent": {
     "id": "6f3257c1-78d2-433e-922d-eb324738803c"
    }
   },
   "source": [
    "Listo, entonces ya podemos hacer descenso de gradiente, o casi. El problema es que no sabemos cual sería el mejor valor para $\\alpha$. Escoge el valor de $\\alpha$ realizando una gráfica de 50 iteraciones solamente para valores desde 0.001, 0.005, 0.01, 0.05, 0.1, 0.5, ... y decide cual de los valores es el que más te conviene.\n",
    "\n",
    "**Selecciona un valor, especifica aquí cual es, y justifica porque lo seleccionaste.**"
   ]
  },
  {
   "cell_type": "code",
   "execution_count": null,
   "metadata": {
    "nbpresent": {
     "id": "993f7095-e455-4117-bbd6-c7114a36746e"
    }
   },
   "outputs": [],
   "source": [
    "medias, desviaciones = obtiene_medias_desviaciones(x)\n",
    "x_norm = normaliza(x, medias, desviaciones)\n",
    "\n",
    "w_ini = np.zeros((n,))\n",
    "b_ini = 0\n",
    "num_iters = 50\n",
    "\n",
    "alpha = 1.  # Aqui es donde hay que hacer las pruebas\n",
    "\n",
    "_, _, mse_hist = descenso_gradiente_lotes(x_norm, y, w_ini, b_ini, alpha, num_iters)\n",
    "\n",
    "plt.plot(mse_hist, '-b')\n",
    "plt.title(r\"La curva de aprendizaje para $\\alpha =$ \" + str(alpha))\n",
    "plt.xlabel('iteraciones')\n",
    "plt.ylabel('MSE')"
   ]
  },
  {
   "cell_type": "markdown",
   "metadata": {
    "nbpresent": {
     "id": "98acf214-20d2-42a7-87f7-5e7457c4a55e"
    }
   },
   "source": [
    "**Utilizando todo el número de iteraciones necesarias, encuentra el valor de $\\omega$ y $b$ utilizando el descenso de gradiente.**"
   ]
  },
  {
   "cell_type": "code",
   "execution_count": null,
   "metadata": {
    "collapsed": true,
    "nbpresent": {
     "id": "bd9430e9-a022-4b4d-93df-ebef0f1a9dad"
    }
   },
   "outputs": [],
   "source": [
    "# Aqui ya no pongo código, esto debe ser relativamente simple\n"
   ]
  },
  {
   "cell_type": "markdown",
   "metadata": {
    "nbpresent": {
     "id": "6b0c2e30-0a5c-401e-ba5f-92d5dacda543"
    }
   },
   "source": [
    "**Obten el valor de una casa de 1650 pies cuadrados y 3 recamaras con el modelo obtenido (recuerda que hay que normalizar).**"
   ]
  },
  {
   "cell_type": "code",
   "execution_count": null,
   "metadata": {
    "nbpresent": {
     "id": "bd5e77ba-ab4d-4d1e-8481-774a20704daf"
    }
   },
   "outputs": [],
   "source": [
    "# Escribe aquí el código\n",
    "\n"
   ]
  },
  {
   "cell_type": "markdown",
   "metadata": {
    "nbpresent": {
     "id": "076f3af2-649a-47e7-a744-6e21abc17294"
    }
   },
   "source": [
    "# 3. Regularización\n",
    "\n",
    "Un detalle que se nos falta revisar es el efecto de a regularización en la regresión, y lo vamos a realizar a partir de un ejemplo sobre ajuste de curvas con polinomios, generando datos sintéticos. La función que vamos a tratar de ajustar, utilizando 20 puntos seleccionados al azar es:\n",
    "\n",
    "$$f(x) = e^{0.1 x} \\sin(2 x)$$\n",
    "\n",
    "Para esto, vamos a generar (utilizando una semilla común, para que todos obtengamos los mismos resultados) datos provenientes de un modelo que es un polinomio de orden superior.\n",
    "\n"
   ]
  },
  {
   "cell_type": "code",
   "execution_count": null,
   "metadata": {
    "nbpresent": {
     "id": "d488109a-becb-43b4-95b9-4b2a9ec5bdc4"
    }
   },
   "outputs": [],
   "source": [
    "\n",
    "# Función a aproximar\n",
    "def f(x): return np.exp(-0.1*x) * np.sin(2*x)\n",
    " \n",
    "# Datos para graficar\n",
    "x_plot = np.linspace(0, 10, 100)\n",
    " \n",
    "# Genera puntos y selecciona 20 en forma aleatoria \n",
    "x = np.linspace(0, 10, 100)\n",
    "rng = np.random.RandomState(0)\n",
    "rng.shuffle(x)\n",
    "x = np.sort(x[:25])\n",
    "\n",
    "# Los valores de salida de los datos que tenemos\n",
    "y = f(x)\n",
    "\n",
    "\n",
    "# Graficamos la función original y los puntos que vamos a utilizar para el aprendizaje\n",
    "plt.plot(x_plot, f(x_plot), label=\"La función original\")\n",
    "plt.scatter(x, y, label=\"datos para el entrenamiento\")\n",
    "plt.title(\"Datos sintéticos para revisar el uso de regularización\")\n"
   ]
  },
  {
   "cell_type": "markdown",
   "metadata": {
    "nbpresent": {
     "id": "b5de7669-1ab6-4496-b641-03e674ef8a16"
    }
   },
   "source": [
    "Ahora vamos a ver que pasa si tratamos de ajustar un modelo con diferentes polinomios. La generación de atributos polinomiales la incluyo en este caso, ya que lo que nos interesa es estudiar el efecto de la regularizacion sobre todo.\n",
    "\n",
    "Para ver el problema de utilizar el método de desceno de gradiente utilizando varias variables vamos a ver el caso sin regularizar primero. Como ejemplo, vamos a poner el resultado obtenido con el método anaítico. Como vemos (o veremos) en la figura, el uso de un polinomio de orden 20 (mayor) no ofrece forzosamente una solución que se apegue a la función original."
   ]
  },
  {
   "cell_type": "code",
   "execution_count": null,
   "metadata": {
    "nbpresent": {
     "id": "944bb64e-de79-4c35-a4ff-ea6eaf99a5d0"
    }
   },
   "outputs": [],
   "source": [
    "plt.plot(x_plot, f(x_plot), label=\"La función original\")\n",
    "plt.scatter(x, y, label=\"datos para el entrenamiento\")\n",
    "\n",
    "for g in [3, 5, 8, 18]:\n",
    "\n",
    "    # Expansión a un polinomio de orden ng\n",
    "    x_g = np.power(x.reshape(-1,1), range(0, g + 1))\n",
    "    x_g_plot = np.power(x_plot.reshape(-1,1), range(0, g + 1))\n",
    "    \n",
    "    w = np.linalg.pinv(x_g) @ y    \n",
    "    y_g = x_g_plot @ w\n",
    "    \n",
    "    plt.plot(x_plot, y_g, label=\"polinomio orden {}\".format(g))\n",
    "    \n",
    "plt.legend()\n",
    "plt.axis([0, 10, -2, 2])\n",
    "   \n",
    "    "
   ]
  },
  {
   "cell_type": "markdown",
   "metadata": {
    "nbpresent": {
     "id": "1f5c8604-b7e8-4ae2-8057-d29723cbfbdc"
    }
   },
   "source": [
    "\n",
    "El método de descenso de gradiente está lejos de ser un método óptimo y/o eficiente, cuando se tiene soluciones analíticas, o cuando es posible obtener en forma analítica la segunda derivada (y por lo tanto metodos como gradiente conjugado o el de Newton se pueden realizar). Con el fin de ilustrar esto, realiza los siguientes ejercicios.\n",
    "\n",
    "**Modifica a tu anojo el ejemplo de abajo para que el método de descenso de gradiente obtenga \n",
    "resultados similares a los de la ecuación normal.**\n",
    "\n",
    "**¿Que pasa si no utlizas la normalización de datos?**\n",
    "\n",
    "**¿Cuál es la mejor $\\alpha$ para el ajuste del polinomio de orden 8?**\n",
    "\n",
    "**¿Cuál es el número ideal de *epochs*?**"
   ]
  },
  {
   "cell_type": "code",
   "execution_count": null,
   "metadata": {
    "nbpresent": {
     "id": "a6da37a5-2a6e-4db8-b0b7-29595768b16f"
    }
   },
   "outputs": [],
   "source": [
    "\n",
    "plt.plot(x_plot, f(x_plot), label=\"La función original\")\n",
    "plt.scatter(x, y, label=\"datos para el entrenamiento\")\n",
    "\n",
    "for g in [3, 5, 8, 18]:\n",
    "\n",
    "    # Expansión a un polinomio de orden ng\n",
    "    x_g = np.power(x.reshape(-1,1), range(1, g + 1))\n",
    "    m, d = obtiene_medias_desviaciones(x_g)\n",
    "    x_g = normaliza(x_g, m, d)\n",
    "    \n",
    "    x_g_plot = np.power(x_plot.reshape(-1,1), range(1, g + 1))\n",
    "    x_g_plot = normaliza(x_g_plot, m, d)\n",
    "    \n",
    "    w_0, b_0 = np.random.randn(g), 0.0    \n",
    "    w, b, _ = descenso_gradiente_lotes(x_g, y, w_0, b_0, 0.2, 10000)\n",
    "    \n",
    "    y_g = x_g_plot @ w + b\n",
    "    \n",
    "    plt.plot(x_plot, y_g, label=\"polinomio orden {}\".format(g))\n",
    "    \n",
    "plt.legend()\n",
    "plt.axis([0, 10, -2, 2])   \n",
    "    "
   ]
  },
  {
   "cell_type": "markdown",
   "metadata": {
    "nbpresent": {
     "id": "050ed85a-6849-470f-bce0-e58082744a1a"
    }
   },
   "source": [
    "La regularización es un método para poder manejar una cantidad importante de parámetrs y que siga funcionando el sistema de alguna manera. Los métodos de regularización más comunes son\n",
    "\n",
    "- Regularización L2: $$reg(w) = w^Tw$$\n",
    "- Regularización L1: $$reg(w) = \\sum_{i=1}^n |\\omega_i|$$\n",
    "\n",
    "y a la función objetivo para optimización (costo) es en adelante la ponderación de la función de pérdida por la regularización.\n",
    "\n",
    "$$costo(w, b) = Loss(w, b) + \\frac{\\lambda}{M} reg(w)$$\n",
    "\n",
    "Así, el costo se usa para optimizar, aunque lo que realmente nos interese es la función de pérdida.\n",
    "\n",
    "** Completa el código para calcular el costo y el gradiente del costo para poder ser utilizados dentro del algoritmo de descenso de gradiente.**\n"
   ]
  },
  {
   "cell_type": "code",
   "execution_count": null,
   "metadata": {
    "collapsed": true,
    "nbpresent": {
     "id": "a0af602d-0dbc-4d93-bef5-b30852cdd91b"
    }
   },
   "outputs": [],
   "source": [
    "def costo(x, y, w, b, lmda=0.0, tipo='L2'):\n",
    "    \"\"\"\n",
    "    Calcula el costo MSE con regularización\n",
    "    \n",
    "    Parámetros\n",
    "    ----------\n",
    "    x: Un ndarray de dimension (M, n)\n",
    "    y: Un ndarray de dimensión (M, )\n",
    "    w: Un ndarray de dimensión (n, )\n",
    "    b: Un flotante\n",
    "    lmda: Un flotante con el valor de lambda para la regularización\n",
    "    tipo: string con el tipo de regularización ('L2' o 'L1')\n",
    "    \n",
    "    Devuelve\n",
    "    --------\n",
    "    Un flotante con el costo    \n",
    "    \n",
    "    \"\"\"\n",
    "    M, n = x.shape\n",
    "    return mse_loss(x, y, w, b) + (lmda / M) * reg(w, tipo)\n",
    "\n",
    "def reg(w, tipo):\n",
    "    \"\"\"\n",
    "    Calcula la regularización, que solo depende de los parámetros\n",
    "\n",
    "    Parámetros\n",
    "    ----------\n",
    "    w: Un ndarray de dimensión (n, )\n",
    "    tipo: string con el tipo de regularización ('L2' o 'L1')\n",
    "    \n",
    "    Devuelve\n",
    "    --------\n",
    "    Un flotante con el valor del costo de regularización\n",
    "\n",
    "    \"\"\"\n",
    "    if tipo is 'L2':\n",
    "        #\n",
    "        # Escribe aqui tu código\n",
    "        #\n",
    "    elif tipo is 'L1':\n",
    "        #\n",
    "        # Escribe aqui tu código\n",
    "        #\n",
    "    else:\n",
    "        raise ValueError(\"Solo está programada por el momento la regularización para L1 y L2\")        \n",
    "    return None\n",
    "\n",
    "\n",
    "def grad_costo_reg(x, y, w, b, lmda, tipo):\n",
    "    \"\"\"\n",
    "    Calcula el gradiente respecto a w y b de los datos existentes\n",
    "    \n",
    "    Parámetros\n",
    "    ----------\n",
    "    x: ndarray de dimension [M, n] con los datos de entrada\n",
    "    y: ndarray de dimension [M,] con los datos de salida\n",
    "    w: ndarray de dimension [n, ] con los pesos \n",
    "    b: flotante con el sesgo \n",
    "    lmda: Un flotante con el valor de lambda para la regularización\n",
    "    tipo: string con el tipo de regularización ('L2' o 'L1')\n",
    "    \n",
    "    Devuelve\n",
    "    ---------\n",
    "    dw, db donde dw es un vector de dimension de w con el gradiente\n",
    "           de la función de costo respecto a w, y db es la derivada de la\n",
    "           funcion de costo respecto a b\n",
    "\n",
    "    \"\"\"\n",
    "    M, n = x.shape\n",
    "    \n",
    "    error = y - (x @ w + b)\n",
    "    \n",
    "    # --aqui hay que poner código--        \n",
    "\n",
    "    \n",
    "    #------------------------------\n",
    "\n",
    "    return dw, db \n",
    "\n",
    "    \n",
    "def des_grad_regu(x, y, w_0, b_0, alpha, num_iter, lmda, tipo):\n",
    "    \"\"\"\n",
    "    Descenso de gradiente durante num_iter iteraciones para regresión lineal\n",
    "    \n",
    "    Parámetros\n",
    "    ----------\n",
    "    x: ndarray de dimension [M, n] con los datos de entrada\n",
    "    y: ndarray de dimension [M,] con los datos de salida\n",
    "    w_0: ndarray de dimension [n, ] con los pesos iniciales\n",
    "    b_0: flotante con el sesgo inicial\n",
    "    alpha: flotante con tamaño de paso o tasa de aprendizaje.\n",
    "    num_iter: numero de iteraciones (entero)\n",
    "    lmda: Un flotante con el valor de lambda para la regularización\n",
    "    tipo: string con el tipo de regularización ('L2' o 'L1')\n",
    "    \n",
    "    Devuelve\n",
    "    --------\n",
    "    w, b, mse_iter: donde w y b tiene las dimensiones de w_0 y b_0 con los parámetros aprendidos, \n",
    "                    mientras que mse_hist es un ndarray de dimensión [num_iter, 1] con el costo en cada iteración.\n",
    "    \n",
    "    \"\"\"\n",
    "    w, b = w_0.copy(), b_0\n",
    "    costo_iter = np.zeros(num_iter)    \n",
    "    M, n = x.shape\n",
    "    \n",
    "    for iter in range(num_iter):\n",
    "        dw, db = grad_costo_reg(x, y, w, b, lmda, tipo)\n",
    "            \n",
    "        # --aqui hay que poner código--        \n",
    "\n",
    "        \n",
    "        #------------------------------\n",
    "        \n",
    "        costo_iter[iter] = costo(x, y, w, b, lmda, tipo)\n",
    "\n",
    "    return w, b, costo_iter\n",
    "\n",
    "# Y para asegurarnos que funciona vamos a probar con un problema de juguete\n",
    "# que se puede resolver  mano para estar seguros que está bien programado\n",
    "\n",
    "w, b = np.array([1., 2., -2., 1., 1.]), 0.1\n",
    "\n",
    "assert reg(w, 'L1') == 7\n",
    "assert reg(w, 'L2') == 11\n",
    "\n",
    "x_test = np.array([[1, 0, 0,  0, -1],\n",
    "              [0, 1, -1, 0,  0]])\n",
    "y_test = np.array([0.5, 3.8])\n",
    "\n",
    "for lmbda in [0, .1, 1, 10, 100]:\n",
    "    assert abs(costo(x_test, y_test, w, b, lmbda, tipo='L1') - (0.25 / 4  + lmbda * 7 / 2)) < 1e-6\n",
    "    assert abs(costo(x_test, y_test, w, b, lmbda, tipo='L2') - (0.25 / 4  + lmbda * 11 / 2)) < 1e-6\n",
    "\n",
    "    dw, db = grad_costo_reg(x_test, y_test, w, b, lmbda, tipo='L2')\n",
    "    assert np.abs(dw - (np.array([-.2, .15, -.15, 0, .2]) + lmbda * w)).sum() < 1e-6\n",
    "\n",
    "    dw, db = grad_costo_reg(x_test, y_test, w, b, lmbda, tipo='L1')\n",
    "    assert np.abs(dw - (np.array([-.2, .15, -.15, 0, .2]) + lmbda * np.sign(w) / 2)).sum() < 1e-6"
   ]
  },
  {
   "cell_type": "markdown",
   "metadata": {
    "nbpresent": {
     "id": "3b4fdfef-3ed8-4b45-afba-146ae970ee9f"
    }
   },
   "source": [
    "Ahora, yo voy a probr con la regularización, pero utilizando el método analítico por pseudoinversa que es muy eficiente, y les dejo a ustedes la tarea de batallar con el descenso de gradiente, con el fin que vean la ventaja de utilizar regularización. Para esto, vamos a resolver el problema con la regularización $L2$, para la cual existe ua solución analítica muy parecida a la pseudoinversa..\n",
    "\n",
    "Todos los pasos para derivar la regularización en $L2$ y algunas sobre la regularización en $L1$ se pueden encontrar [en esta presentación](http://eniac.cs.qc.cuny.edu/andrew/gcml/lecture5.pdf). La formula analítica para la regresión lineal con regularización $L2$ está dada por:\n",
    "\n",
    "$$\n",
    "w^* = (X^TX + \\lambda I_0)^{-1}X^T Y\n",
    "$$\n",
    "donde $I_0$ es una matriz diagonal a la cual el elemento $I_{1,1}$ se asigna a $0$ (para no incluir el sesgo en la regularización).\n",
    "\n",
    "Por ejemplo, si hacemos la regresion lineal con un polinomio de 30avo grado, conforme $\\lambda$ aumenta, el error de validación y de prueba se modifican de la siguiente manera:"
   ]
  },
  {
   "cell_type": "code",
   "execution_count": null,
   "metadata": {
    "nbpresent": {
     "id": "dd54128b-ab71-4def-b470-ce4ba0e916be"
    }
   },
   "outputs": [],
   "source": [
    "# Función a aproximar\n",
    "def f(x): return np.exp(-0.1*x) * np.sin(2*x)\n",
    " \n",
    "# Datos para graficar\n",
    "x_plot = np.linspace(0, 10, 100)\n",
    " \n",
    "# Genera puntos y selecciona 20 en forma aleatoria \n",
    "x = np.linspace(0, 10, 100)\n",
    "rng = np.random.RandomState(0)\n",
    "rng.shuffle(x)\n",
    "x = np.sort(x[:25])\n",
    "\n",
    "\n",
    "grado = 10\n",
    "x_train = np.power(x.reshape(-1,1), range(0, grado + 1))\n",
    "x_verif = np.power(x_plot.reshape(-1,1), range(0, grado + 1))\n",
    "\n",
    "y_train, y_verif = f(x), f(x_plot)\n",
    "\n",
    "M_train = x_train.shape[0]\n",
    "M_verif = x_verif.shape[0]\n",
    "\n",
    "I_0 = np.eye(grado + 1)\n",
    "I_0[0, 0] = 0.0\n",
    "\n",
    "display(I_0.shape)\n",
    "display((x_train.T @ x_train).shape)\n",
    "\n",
    "lambdas = np.array([0, .1, .2, 1, 10, 20, 100, 200, 1000, 2000, 10000])\n",
    "e_train = np.zeros_like(lambdas)\n",
    "e_verif = np.zeros_like(lambdas)\n",
    "\n",
    "for (i, lambd) in enumerate(lambdas):\n",
    "    w = np.linalg.inv(x_train.T @ x_train + (lambd * I_0)) @ x_train.T @ y_train\n",
    "\n",
    "    error_train = y_train - x_train @ w\n",
    "    error_verif = y_verif - x_verif @ w\n",
    "    \n",
    "    e_train[i] = (error_train.T @ error_train) / M_train\n",
    "    e_verif[i] = (error_verif.T @ error_verif) / M_verif\n",
    "\n",
    "plt.loglog(lambdas, e_train, label=\"Error en muestra\")\n",
    "plt.loglog(lambdas, e_verif, label=\"Estimado de error fuera de muestra\")\n",
    "plt.legend()"
   ]
  },
  {
   "cell_type": "markdown",
   "metadata": {
    "nbpresent": {
     "id": "bd1d38e3-787c-4999-9325-43a0974e3b4e"
    }
   },
   "source": [
    "**Prueba para distintos polinomios y responde la pregunta ¿Porqué se comporta de la manera que lo hace con polinomios de alto orden (alrededor de 18 por ejemplo)? **"
   ]
  },
  {
   "cell_type": "markdown",
   "metadata": {
    "nbpresent": {
     "id": "96246822-63c9-47fe-8f2d-4f0c825ba973"
    }
   },
   "source": [
    "Ahora vamos a ver que pasa con las diferentes regularizacióne con el polinomio si vemos la predicción que realiza"
   ]
  },
  {
   "cell_type": "code",
   "execution_count": null,
   "metadata": {
    "nbpresent": {
     "id": "7695af2e-4852-4fd2-8abb-fbc59c0632af"
    }
   },
   "outputs": [],
   "source": [
    "grado = 10\n",
    "\n",
    "x_train = np.power(x.reshape(-1,1), range(0, grado + 1))\n",
    "x_verif = np.power(x_plot.reshape(-1,1), range(0, grado + 1))\n",
    "\n",
    "y_train = f(x)\n",
    "y_plot = f(x_plot)\n",
    "\n",
    "plt.plot(x_plot, f(x_plot), label=\"La función original\")\n",
    "plt.scatter(x, y, label=\"datos para el entrenamiento\")\n",
    "\n",
    "I_0 = np.eye(grado + 1)\n",
    "I_0[0, 0] = 0.0\n",
    "\n",
    "for lambd in [0, 1, 10, 1000]:\n",
    "    w = np.linalg.inv(x_train.T @ x_train + (lambd * I_0)) @ x_train.T @ y_train\n",
    "\n",
    "    y_lambd = x_verif @ w\n",
    "    plt.plot(x_plot, y_lambd, label=\"polinomio orden {} y lambda = {}\".format(grado, lambd))\n",
    "\n",
    "plt.legend()\n",
    "plt.axis([0, 10, -2, 2])   "
   ]
  },
  {
   "cell_type": "markdown",
   "metadata": {
    "nbpresent": {
     "id": "66466e49-2884-4e33-89ca-33e5c8498c59"
    }
   },
   "source": [
    "**Escribe ahora tu función de regularización utilizando el descenso de gradiente**\n",
    "\n",
    "Espacio para escribir conclusiones"
   ]
  },
  {
   "cell_type": "code",
   "execution_count": null,
   "metadata": {
    "collapsed": true,
    "nbpresent": {
     "id": "d1f4d2d6-4f12-459f-b900-dc3ee7d76ee6"
    }
   },
   "outputs": [],
   "source": [
    "## --- Agrega aqui tu código ----\n",
    "\n",
    "\n"
   ]
  }
 ],
 "metadata": {
  "kernelspec": {
   "display_name": "Python [default]",
   "language": "python",
   "name": "python3"
  },
  "language_info": {
   "codemirror_mode": {
    "name": "ipython",
    "version": 3
   },
   "file_extension": ".py",
   "mimetype": "text/x-python",
   "name": "python",
   "nbconvert_exporter": "python",
   "pygments_lexer": "ipython3",
   "version": "3.5.4"
  },
  "nbpresent": {
   "slides": {
    "00afad95-7ff2-409b-a50b-1e1e85bfedc5": {
     "id": "00afad95-7ff2-409b-a50b-1e1e85bfedc5",
     "prev": "c76ad6ec-a2ea-403b-bcb8-735efae58f50",
     "regions": {
      "4b35a360-e759-489d-8317-f2639cfab21d": {
       "attrs": {
        "height": 0.8,
        "width": 0.8,
        "x": 0.1,
        "y": 0.1
       },
       "content": {
        "cell": "d287e91a-21e8-4445-b10c-a976fae38dcd",
        "part": "whole"
       },
       "id": "4b35a360-e759-489d-8317-f2639cfab21d"
      }
     }
    },
    "0eb7787d-81f0-4a78-8608-5d1848ef1a4c": {
     "id": "0eb7787d-81f0-4a78-8608-5d1848ef1a4c",
     "prev": "72140018-1d46-48b3-a7a6-0f56f3e6e1de",
     "regions": {
      "d9de7cc1-6639-4b8f-9a00-eb032e26af50": {
       "attrs": {
        "height": 0.8,
        "width": 0.8,
        "x": 0.1,
        "y": 0.1
       },
       "content": {
        "cell": "64a85cb2-4f88-4ac8-8f8a-5232a8af8979",
        "part": "whole"
       },
       "id": "d9de7cc1-6639-4b8f-9a00-eb032e26af50"
      }
     }
    },
    "173e68f5-9577-4a43-865a-1dfaebf81d75": {
     "id": "173e68f5-9577-4a43-865a-1dfaebf81d75",
     "prev": "84b7ca75-6418-4f6f-97f5-4b8527ffd122",
     "regions": {
      "0ff45ac9-8c8f-4a95-a650-ca65e9668387": {
       "attrs": {
        "height": 0.8,
        "width": 0.8,
        "x": 0.1,
        "y": 0.1
       },
       "content": {
        "cell": "e5c3574f-e76f-4ada-bb64-5fa17b179ef6",
        "part": "whole"
       },
       "id": "0ff45ac9-8c8f-4a95-a650-ca65e9668387"
      }
     }
    },
    "198a7c18-344f-4a51-a1c1-0a6878c358b7": {
     "id": "198a7c18-344f-4a51-a1c1-0a6878c358b7",
     "prev": "ac2b5c25-4771-40d0-95fc-f06fceb423be",
     "regions": {
      "0a1d3d9d-494b-4408-8704-b838a6ba6fa4": {
       "attrs": {
        "height": 0.8,
        "width": 0.8,
        "x": 0.1,
        "y": 0.1
       },
       "content": {
        "cell": "3b4fdfef-3ed8-4b45-afba-146ae970ee9f",
        "part": "whole"
       },
       "id": "0a1d3d9d-494b-4408-8704-b838a6ba6fa4"
      }
     }
    },
    "27b57cd6-2450-491d-b7d2-92e56e59eb07": {
     "id": "27b57cd6-2450-491d-b7d2-92e56e59eb07",
     "prev": "4969591c-489c-4269-aa48-ab242962731d",
     "regions": {
      "35a70487-3c5f-44f0-b1e1-a5ed25dd2b09": {
       "attrs": {
        "height": 0.8,
        "width": 0.8,
        "x": 0.1,
        "y": 0.1
       },
       "content": {
        "cell": "39f5c566-9416-4ad4-8a1a-b85919595392",
        "part": "whole"
       },
       "id": "35a70487-3c5f-44f0-b1e1-a5ed25dd2b09"
      }
     }
    },
    "2b3e9225-1a2f-4a56-a296-9d29a752ef17": {
     "id": "2b3e9225-1a2f-4a56-a296-9d29a752ef17",
     "prev": "57d79ead-b7f4-48ea-9e64-3e863a643f37",
     "regions": {
      "fd076f6b-0f18-4b10-8689-bb3f6b5522b9": {
       "attrs": {
        "height": 0.8,
        "width": 0.8,
        "x": 0.1,
        "y": 0.1
       },
       "content": {
        "cell": "4346d211-5f5d-4b49-ac2a-75e020a8d480",
        "part": "whole"
       },
       "id": "fd076f6b-0f18-4b10-8689-bb3f6b5522b9"
      }
     }
    },
    "2d1a0c95-77c3-4b82-b7d0-19ab6f6e5812": {
     "id": "2d1a0c95-77c3-4b82-b7d0-19ab6f6e5812",
     "prev": "f44cc37f-2cfa-4b53-8e97-1855f652ae21",
     "regions": {
      "1cb24385-0597-49fb-b7c0-adcf2f6c5bcc": {
       "attrs": {
        "height": 0.8,
        "width": 0.8,
        "x": 0.1,
        "y": 0.1
       },
       "content": {
        "cell": "d488109a-becb-43b4-95b9-4b2a9ec5bdc4",
        "part": "whole"
       },
       "id": "1cb24385-0597-49fb-b7c0-adcf2f6c5bcc"
      }
     }
    },
    "327d3070-16ff-462a-adfd-cf0aeed9efd5": {
     "id": "327d3070-16ff-462a-adfd-cf0aeed9efd5",
     "prev": "00afad95-7ff2-409b-a50b-1e1e85bfedc5",
     "regions": {
      "34155d1e-d433-468b-a717-04fb9c9e6769": {
       "attrs": {
        "height": 0.8,
        "width": 0.8,
        "x": 0.1,
        "y": 0.1
       },
       "content": {
        "cell": "32055157-3285-4624-a3a9-eebf624bafbc",
        "part": "whole"
       },
       "id": "34155d1e-d433-468b-a717-04fb9c9e6769"
      }
     }
    },
    "350226a8-b8f2-48d6-a7d9-1057784e2a2a": {
     "id": "350226a8-b8f2-48d6-a7d9-1057784e2a2a",
     "prev": "f9d1c873-a61a-47ee-89da-1f3a2759f414",
     "regions": {
      "ead22e32-60e8-4f10-bbf1-ef4129cb5a33": {
       "attrs": {
        "height": 0.8,
        "width": 0.8,
        "x": 0.1,
        "y": 0.1
       },
       "content": {
        "cell": "bd5e77ba-ab4d-4d1e-8481-774a20704daf",
        "part": "whole"
       },
       "id": "ead22e32-60e8-4f10-bbf1-ef4129cb5a33"
      }
     }
    },
    "35abe09a-a066-452e-a6fb-f14b9972c2d9": {
     "id": "35abe09a-a066-452e-a6fb-f14b9972c2d9",
     "prev": "380ba266-8e56-477d-99a0-4bb68e5709bd",
     "regions": {
      "a9f47956-057a-4729-843b-f32e0b96ddfe": {
       "attrs": {
        "height": 0.8,
        "width": 0.8,
        "x": 0.1,
        "y": 0.1
       },
       "content": {
        "cell": "8d33505d-923a-47b7-95a0-1ef4fc35a585",
        "part": "whole"
       },
       "id": "a9f47956-057a-4729-843b-f32e0b96ddfe"
      }
     }
    },
    "35d32e3e-77a7-42a6-b709-f42a5686fbf6": {
     "id": "35d32e3e-77a7-42a6-b709-f42a5686fbf6",
     "prev": "0eb7787d-81f0-4a78-8608-5d1848ef1a4c",
     "regions": {
      "7d04a1b7-053a-4776-93f5-62c57ca83df0": {
       "attrs": {
        "height": 0.8,
        "width": 0.8,
        "x": 0.1,
        "y": 0.1
       },
       "content": {
        "cell": "78d03523-4deb-447d-9bed-0ca6cbab85c5",
        "part": "whole"
       },
       "id": "7d04a1b7-053a-4776-93f5-62c57ca83df0"
      }
     }
    },
    "380ba266-8e56-477d-99a0-4bb68e5709bd": {
     "id": "380ba266-8e56-477d-99a0-4bb68e5709bd",
     "prev": "88cdc265-e667-4486-8e8d-9f8c78510cfa",
     "regions": {
      "fa06b6cc-87ae-417f-8f19-91fb02f84afc": {
       "attrs": {
        "height": 0.8,
        "width": 0.8,
        "x": 0.1,
        "y": 0.1
       },
       "content": {
        "cell": "a936bec6-c558-4353-a947-859ade970a96",
        "part": "whole"
       },
       "id": "fa06b6cc-87ae-417f-8f19-91fb02f84afc"
      }
     }
    },
    "3881024e-c71e-4e85-927a-440544698eec": {
     "id": "3881024e-c71e-4e85-927a-440544698eec",
     "prev": "7587b580-e3e4-4c2b-909c-aaadd2749a62",
     "regions": {
      "860fc42a-46f9-43b0-b16b-dedde9ab08a4": {
       "attrs": {
        "height": 0.8,
        "width": 0.8,
        "x": 0.1,
        "y": 0.1
       },
       "content": {
        "cell": "a6da37a5-2a6e-4db8-b0b7-29595768b16f",
        "part": "whole"
       },
       "id": "860fc42a-46f9-43b0-b16b-dedde9ab08a4"
      }
     }
    },
    "408233ab-3c6a-4049-956e-a763df659774": {
     "id": "408233ab-3c6a-4049-956e-a763df659774",
     "prev": "758ef309-7674-4ded-9396-577202ad4839",
     "regions": {
      "fa599c39-6ac7-460f-bb94-8c87ea7701f2": {
       "attrs": {
        "height": 0.8,
        "width": 0.8,
        "x": 0.1,
        "y": 0.1
       },
       "content": {
        "cell": "6f3257c1-78d2-433e-922d-eb324738803c",
        "part": "whole"
       },
       "id": "fa599c39-6ac7-460f-bb94-8c87ea7701f2"
      }
     }
    },
    "45ca5176-d477-4917-936e-70b0686f44c1": {
     "id": "45ca5176-d477-4917-936e-70b0686f44c1",
     "prev": "8ad7ed2c-9ae7-4e52-92f4-e075ea8a42a9",
     "regions": {
      "1badfb3a-ced5-43f7-9da6-00c3a9bbb96e": {
       "attrs": {
        "height": 0.8,
        "width": 0.8,
        "x": 0.1,
        "y": 0.1
       },
       "content": {
        "cell": "66466e49-2884-4e33-89ca-33e5c8498c59",
        "part": "whole"
       },
       "id": "1badfb3a-ced5-43f7-9da6-00c3a9bbb96e"
      }
     }
    },
    "4969591c-489c-4269-aa48-ab242962731d": {
     "id": "4969591c-489c-4269-aa48-ab242962731d",
     "prev": "d66cb12e-a287-422e-860b-5f9bd2bc4861",
     "regions": {
      "af345935-cd89-46dc-8ca0-243f521d20cd": {
       "attrs": {
        "height": 0.8,
        "width": 0.8,
        "x": 0.1,
        "y": 0.1
       },
       "content": {
        "cell": "3703537f-284d-44ae-bf3d-83e984f223d8",
        "part": "whole"
       },
       "id": "af345935-cd89-46dc-8ca0-243f521d20cd"
      }
     }
    },
    "57d79ead-b7f4-48ea-9e64-3e863a643f37": {
     "id": "57d79ead-b7f4-48ea-9e64-3e863a643f37",
     "prev": "61d076a9-d14b-44cf-b859-2290adcebd30",
     "regions": {
      "98e399c7-3776-408f-8112-7dbe7a0e3180": {
       "attrs": {
        "height": 0.8,
        "width": 0.8,
        "x": 0.1,
        "y": 0.1
       },
       "content": {
        "cell": "c96696ca-416d-4c2d-9292-76a356ac277e",
        "part": "whole"
       },
       "id": "98e399c7-3776-408f-8112-7dbe7a0e3180"
      }
     }
    },
    "59bc0b19-2c5c-403b-ac70-a813078f9710": {
     "id": "59bc0b19-2c5c-403b-ac70-a813078f9710",
     "prev": "2d1a0c95-77c3-4b82-b7d0-19ab6f6e5812",
     "regions": {
      "eb24cc0d-e008-4998-b16b-196849209e72": {
       "attrs": {
        "height": 0.8,
        "width": 0.8,
        "x": 0.1,
        "y": 0.1
       },
       "content": {
        "cell": "b5de7669-1ab6-4496-b641-03e674ef8a16",
        "part": "whole"
       },
       "id": "eb24cc0d-e008-4998-b16b-196849209e72"
      }
     }
    },
    "61d076a9-d14b-44cf-b859-2290adcebd30": {
     "id": "61d076a9-d14b-44cf-b859-2290adcebd30",
     "prev": "27b57cd6-2450-491d-b7d2-92e56e59eb07",
     "regions": {
      "54b6e8cd-e2bd-4466-baed-b00493252739": {
       "attrs": {
        "height": 0.8,
        "width": 0.8,
        "x": 0.1,
        "y": 0.1
       },
       "content": {
        "cell": "69c2ff8d-aebd-4f05-9d5b-7572464afbda",
        "part": "whole"
       },
       "id": "54b6e8cd-e2bd-4466-baed-b00493252739"
      }
     }
    },
    "69e40f15-c3cc-4f20-a6e5-f25f3359daf7": {
     "id": "69e40f15-c3cc-4f20-a6e5-f25f3359daf7",
     "prev": "e5469e4c-1433-41df-a76c-28b324c6d6d8",
     "regions": {
      "1433db1f-3aee-4333-bcfe-9378be75588e": {
       "attrs": {
        "height": 0.8,
        "width": 0.8,
        "x": 0.1,
        "y": 0.1
       },
       "content": {
        "cell": "dc65fed1-fc9b-4ae1-a2cb-9ee9ca087146",
        "part": "whole"
       },
       "id": "1433db1f-3aee-4333-bcfe-9378be75588e"
      }
     }
    },
    "71451de1-4056-4231-b2a5-eb30bafbfd7b": {
     "id": "71451de1-4056-4231-b2a5-eb30bafbfd7b",
     "prev": "b04fcb0c-de0c-48a5-9015-4015a0efa685",
     "regions": {
      "1bf9fc45-ef3f-4870-8a28-18124ff9c4a9": {
       "attrs": {
        "height": 0.8,
        "width": 0.8,
        "x": 0.1,
        "y": 0.1
       },
       "content": {
        "cell": "bd9430e9-a022-4b4d-93df-ebef0f1a9dad",
        "part": "whole"
       },
       "id": "1bf9fc45-ef3f-4870-8a28-18124ff9c4a9"
      }
     }
    },
    "72140018-1d46-48b3-a7a6-0f56f3e6e1de": {
     "id": "72140018-1d46-48b3-a7a6-0f56f3e6e1de",
     "prev": "a31368f0-87ce-4e17-b515-612a862d7857",
     "regions": {
      "744835db-f615-4c9b-a9c1-2eaab413e4b2": {
       "attrs": {
        "height": 0.8,
        "width": 0.8,
        "x": 0.1,
        "y": 0.1
       },
       "content": {
        "cell": "c9bfb1fd-9db7-41fb-9044-766d4a898410",
        "part": "whole"
       },
       "id": "744835db-f615-4c9b-a9c1-2eaab413e4b2"
      }
     }
    },
    "74bfa257-ffd2-4364-8c54-97ae06b61e22": {
     "id": "74bfa257-ffd2-4364-8c54-97ae06b61e22",
     "prev": "e5bd8a37-4b03-404d-a1e5-762615cbf201",
     "regions": {
      "d8ce5162-404f-4b0b-9711-8201226a185d": {
       "attrs": {
        "height": 0.8,
        "width": 0.8,
        "x": 0.1,
        "y": 0.1
       },
       "content": {
        "cell": "96246822-63c9-47fe-8f2d-4f0c825ba973",
        "part": "whole"
       },
       "id": "d8ce5162-404f-4b0b-9711-8201226a185d"
      }
     }
    },
    "7587b580-e3e4-4c2b-909c-aaadd2749a62": {
     "id": "7587b580-e3e4-4c2b-909c-aaadd2749a62",
     "prev": "d0d98a20-6903-4c73-9470-fd424b35d20a",
     "regions": {
      "a03ae78b-a918-4262-bb3f-5df06c62a5da": {
       "attrs": {
        "height": 0.8,
        "width": 0.8,
        "x": 0.1,
        "y": 0.1
       },
       "content": {
        "cell": "1f5c8604-b7e8-4ae2-8057-d29723cbfbdc",
        "part": "whole"
       },
       "id": "a03ae78b-a918-4262-bb3f-5df06c62a5da"
      }
     }
    },
    "758ef309-7674-4ded-9396-577202ad4839": {
     "id": "758ef309-7674-4ded-9396-577202ad4839",
     "prev": "e5c3c3dd-2f4c-450e-922e-c85357199d15",
     "regions": {
      "e684fc05-1672-4e14-b322-11b98cacc41f": {
       "attrs": {
        "height": 0.8,
        "width": 0.8,
        "x": 0.1,
        "y": 0.1
       },
       "content": {
        "cell": "b5211555-ecb2-493d-9be7-fb48dd33a895",
        "part": "whole"
       },
       "id": "e684fc05-1672-4e14-b322-11b98cacc41f"
      }
     }
    },
    "84b7ca75-6418-4f6f-97f5-4b8527ffd122": {
     "id": "84b7ca75-6418-4f6f-97f5-4b8527ffd122",
     "prev": "a7587d16-b164-4b52-a5a0-248a6f4b3d1f",
     "regions": {
      "04ea628c-87db-46d6-9261-c1d6a69f1a96": {
       "attrs": {
        "height": 0.8,
        "width": 0.8,
        "x": 0.1,
        "y": 0.1
       },
       "content": {
        "cell": "84929073-7b33-4814-9623-01a4b5d70b29",
        "part": "whole"
       },
       "id": "04ea628c-87db-46d6-9261-c1d6a69f1a96"
      }
     }
    },
    "88cdc265-e667-4486-8e8d-9f8c78510cfa": {
     "id": "88cdc265-e667-4486-8e8d-9f8c78510cfa",
     "prev": "69e40f15-c3cc-4f20-a6e5-f25f3359daf7",
     "regions": {
      "3fb94168-63d4-4825-8e8c-5e90c47d1485": {
       "attrs": {
        "height": 0.8,
        "width": 0.8,
        "x": 0.1,
        "y": 0.1
       },
       "content": {
        "cell": "3dd5dfd8-e06f-4c98-b29b-440c505ff043",
        "part": "whole"
       },
       "id": "3fb94168-63d4-4825-8e8c-5e90c47d1485"
      }
     }
    },
    "8ad7ed2c-9ae7-4e52-92f4-e075ea8a42a9": {
     "id": "8ad7ed2c-9ae7-4e52-92f4-e075ea8a42a9",
     "prev": "74bfa257-ffd2-4364-8c54-97ae06b61e22",
     "regions": {
      "ec49e575-b9db-482c-a61f-3392993a5123": {
       "attrs": {
        "height": 0.8,
        "width": 0.8,
        "x": 0.1,
        "y": 0.1
       },
       "content": {
        "cell": "7695af2e-4852-4fd2-8abb-fbc59c0632af",
        "part": "whole"
       },
       "id": "ec49e575-b9db-482c-a61f-3392993a5123"
      }
     }
    },
    "907180e9-b101-468c-b938-923a987b8df0": {
     "id": "907180e9-b101-468c-b938-923a987b8df0",
     "prev": "45ca5176-d477-4917-936e-70b0686f44c1",
     "regions": {
      "619de1b6-53e8-4e3e-b1dd-35f9b695b182": {
       "attrs": {
        "height": 0.8,
        "width": 0.8,
        "x": 0.1,
        "y": 0.1
       },
       "content": {
        "cell": "d1f4d2d6-4f12-459f-b900-dc3ee7d76ee6",
        "part": "whole"
       },
       "id": "619de1b6-53e8-4e3e-b1dd-35f9b695b182"
      }
     }
    },
    "95d2ddd4-51cc-466b-ad15-b3b1541569ff": {
     "id": "95d2ddd4-51cc-466b-ad15-b3b1541569ff",
     "prev": "35abe09a-a066-452e-a6fb-f14b9972c2d9",
     "regions": {
      "7dec2225-09dd-4659-ad72-06b05718f75e": {
       "attrs": {
        "height": 0.8,
        "width": 0.8,
        "x": 0.1,
        "y": 0.1
       },
       "content": {
        "cell": "276c8c78-e1b0-4eab-aa24-3f633b3e6b68",
        "part": "whole"
       },
       "id": "7dec2225-09dd-4659-ad72-06b05718f75e"
      }
     }
    },
    "a31368f0-87ce-4e17-b515-612a862d7857": {
     "id": "a31368f0-87ce-4e17-b515-612a862d7857",
     "prev": "173e68f5-9577-4a43-865a-1dfaebf81d75",
     "regions": {
      "ac940c86-91f6-4511-b7b6-328ec7cb08bb": {
       "attrs": {
        "height": 0.8,
        "width": 0.8,
        "x": 0.1,
        "y": 0.1
       },
       "content": {
        "cell": "68dc55a5-85cf-4240-814a-b8ae43356bdd",
        "part": "whole"
       },
       "id": "ac940c86-91f6-4511-b7b6-328ec7cb08bb"
      }
     }
    },
    "a7587d16-b164-4b52-a5a0-248a6f4b3d1f": {
     "id": "a7587d16-b164-4b52-a5a0-248a6f4b3d1f",
     "prev": "f96a5569-4033-4b26-ba64-488d63b1450a",
     "regions": {
      "82ead8b3-a027-4166-a663-f8b0745b511d": {
       "attrs": {
        "height": 0.8,
        "width": 0.8,
        "x": 0.1,
        "y": 0.1
       },
       "content": {
        "cell": "e516bd0b-925c-4dd0-bdc9-5e7478b32b92",
        "part": "whole"
       },
       "id": "82ead8b3-a027-4166-a663-f8b0745b511d"
      }
     }
    },
    "ac2b5c25-4771-40d0-95fc-f06fceb423be": {
     "id": "ac2b5c25-4771-40d0-95fc-f06fceb423be",
     "prev": "dd22f2c0-22ad-4811-8294-3104a3727a56",
     "regions": {
      "6ff4cee2-92d0-457e-be40-2265a83035fa": {
       "attrs": {
        "height": 0.8,
        "width": 0.8,
        "x": 0.1,
        "y": 0.1
       },
       "content": {
        "cell": "a0af602d-0dbc-4d93-bef5-b30852cdd91b",
        "part": "whole"
       },
       "id": "6ff4cee2-92d0-457e-be40-2265a83035fa"
      }
     }
    },
    "b04fcb0c-de0c-48a5-9015-4015a0efa685": {
     "id": "b04fcb0c-de0c-48a5-9015-4015a0efa685",
     "prev": "fa1b511b-e31b-4c05-aa09-4d600dcbdfcc",
     "regions": {
      "aadeb599-0885-400a-af4c-cbb729e74927": {
       "attrs": {
        "height": 0.8,
        "width": 0.8,
        "x": 0.1,
        "y": 0.1
       },
       "content": {
        "cell": "98acf214-20d2-42a7-87f7-5e7457c4a55e",
        "part": "whole"
       },
       "id": "aadeb599-0885-400a-af4c-cbb729e74927"
      }
     }
    },
    "bcbd7eb9-1d25-4013-b4c2-d4ecd59b7419": {
     "id": "bcbd7eb9-1d25-4013-b4c2-d4ecd59b7419",
     "prev": "198a7c18-344f-4a51-a1c1-0a6878c358b7",
     "regions": {
      "e8283bf3-95de-43cc-b7d3-3c4f279f3e74": {
       "attrs": {
        "height": 0.8,
        "width": 0.8,
        "x": 0.1,
        "y": 0.1
       },
       "content": {
        "cell": "dd54128b-ab71-4def-b470-ce4ba0e916be",
        "part": "whole"
       },
       "id": "e8283bf3-95de-43cc-b7d3-3c4f279f3e74"
      }
     }
    },
    "c76ad6ec-a2ea-403b-bcb8-735efae58f50": {
     "id": "c76ad6ec-a2ea-403b-bcb8-735efae58f50",
     "prev": "cde2f428-1652-4c91-9cba-62970ff2f051",
     "regions": {
      "de6cc0ad-8f59-4872-bb26-4b43c4c0bd20": {
       "attrs": {
        "height": 0.8,
        "width": 0.8,
        "x": 0.1,
        "y": 0.1
       },
       "content": {
        "cell": "7df09011-0dcf-4e74-a3c7-261d8127c598",
        "part": "whole"
       },
       "id": "de6cc0ad-8f59-4872-bb26-4b43c4c0bd20"
      }
     }
    },
    "cde2f428-1652-4c91-9cba-62970ff2f051": {
     "id": "cde2f428-1652-4c91-9cba-62970ff2f051",
     "prev": null,
     "regions": {
      "8538e759-540c-4a00-8452-8fb50787ba3f": {
       "attrs": {
        "height": 0.8,
        "width": 0.8,
        "x": 0.1,
        "y": 0.1
       },
       "content": {
        "cell": "612a3433-b308-4e23-a0c4-72a39b82dcc0",
        "part": "whole"
       },
       "id": "8538e759-540c-4a00-8452-8fb50787ba3f"
      }
     }
    },
    "d0d98a20-6903-4c73-9470-fd424b35d20a": {
     "id": "d0d98a20-6903-4c73-9470-fd424b35d20a",
     "prev": "59bc0b19-2c5c-403b-ac70-a813078f9710",
     "regions": {
      "0f50abb9-5bba-478b-88e1-a78f49971ab2": {
       "attrs": {
        "height": 0.8,
        "width": 0.8,
        "x": 0.1,
        "y": 0.1
       },
       "content": {
        "cell": "944bb64e-de79-4c35-a4ff-ea6eaf99a5d0",
        "part": "whole"
       },
       "id": "0f50abb9-5bba-478b-88e1-a78f49971ab2"
      }
     }
    },
    "d66cb12e-a287-422e-860b-5f9bd2bc4861": {
     "id": "d66cb12e-a287-422e-860b-5f9bd2bc4861",
     "prev": "35d32e3e-77a7-42a6-b709-f42a5686fbf6",
     "regions": {
      "8bfed45f-f6d1-474a-9c39-6df10fd2f047": {
       "attrs": {
        "height": 0.8,
        "width": 0.8,
        "x": 0.1,
        "y": 0.1
       },
       "content": {
        "cell": "2821cc16-3317-49e0-886e-3b3da2aa201d",
        "part": "whole"
       },
       "id": "8bfed45f-f6d1-474a-9c39-6df10fd2f047"
      }
     }
    },
    "d775407d-8d74-4a79-913b-453b0a0c3596": {
     "id": "d775407d-8d74-4a79-913b-453b0a0c3596",
     "prev": "327d3070-16ff-462a-adfd-cf0aeed9efd5",
     "regions": {
      "739f1ba8-7e13-48c7-9ac4-738d1da713ee": {
       "attrs": {
        "height": 0.8,
        "width": 0.8,
        "x": 0.1,
        "y": 0.1
       },
       "content": {
        "cell": "443b470d-4a03-40bc-9b3a-99cfec1cf5ec",
        "part": "whole"
       },
       "id": "739f1ba8-7e13-48c7-9ac4-738d1da713ee"
      }
     }
    },
    "dd22f2c0-22ad-4811-8294-3104a3727a56": {
     "id": "dd22f2c0-22ad-4811-8294-3104a3727a56",
     "prev": "3881024e-c71e-4e85-927a-440544698eec",
     "regions": {
      "6a2246d6-1a9a-483a-967e-a1a04f3ff18b": {
       "attrs": {
        "height": 0.8,
        "width": 0.8,
        "x": 0.1,
        "y": 0.1
       },
       "content": {
        "cell": "050ed85a-6849-470f-bce0-e58082744a1a",
        "part": "whole"
       },
       "id": "6a2246d6-1a9a-483a-967e-a1a04f3ff18b"
      }
     }
    },
    "e5469e4c-1433-41df-a76c-28b324c6d6d8": {
     "id": "e5469e4c-1433-41df-a76c-28b324c6d6d8",
     "prev": "2b3e9225-1a2f-4a56-a296-9d29a752ef17",
     "regions": {
      "536f6f61-913a-4f9a-aef1-6559e7ce5e4a": {
       "attrs": {
        "height": 0.8,
        "width": 0.8,
        "x": 0.1,
        "y": 0.1
       },
       "content": {
        "cell": "5ca69ea6-8398-4ee7-b899-27a6a3271336",
        "part": "whole"
       },
       "id": "536f6f61-913a-4f9a-aef1-6559e7ce5e4a"
      }
     }
    },
    "e5bd8a37-4b03-404d-a1e5-762615cbf201": {
     "id": "e5bd8a37-4b03-404d-a1e5-762615cbf201",
     "prev": "bcbd7eb9-1d25-4013-b4c2-d4ecd59b7419",
     "regions": {
      "1fd9af5e-64ae-4fff-8589-5ac737e95483": {
       "attrs": {
        "height": 0.8,
        "width": 0.8,
        "x": 0.1,
        "y": 0.1
       },
       "content": {
        "cell": "bd1d38e3-787c-4999-9325-43a0974e3b4e",
        "part": "whole"
       },
       "id": "1fd9af5e-64ae-4fff-8589-5ac737e95483"
      }
     }
    },
    "e5c3c3dd-2f4c-450e-922e-c85357199d15": {
     "id": "e5c3c3dd-2f4c-450e-922e-c85357199d15",
     "prev": "95d2ddd4-51cc-466b-ad15-b3b1541569ff",
     "regions": {
      "64a32f41-728f-49c7-90b1-9bacd1402a24": {
       "attrs": {
        "height": 0.8,
        "width": 0.8,
        "x": 0.1,
        "y": 0.1
       },
       "content": {
        "cell": "a12ee239-a864-4064-b5d9-a4a798772e03",
        "part": "whole"
       },
       "id": "64a32f41-728f-49c7-90b1-9bacd1402a24"
      }
     }
    },
    "f44cc37f-2cfa-4b53-8e97-1855f652ae21": {
     "id": "f44cc37f-2cfa-4b53-8e97-1855f652ae21",
     "prev": "350226a8-b8f2-48d6-a7d9-1057784e2a2a",
     "regions": {
      "93b84efe-a6d3-4d37-9da3-7cea9a8fc7e3": {
       "attrs": {
        "height": 0.8,
        "width": 0.8,
        "x": 0.1,
        "y": 0.1
       },
       "content": {
        "cell": "076f3af2-649a-47e7-a744-6e21abc17294",
        "part": "whole"
       },
       "id": "93b84efe-a6d3-4d37-9da3-7cea9a8fc7e3"
      }
     }
    },
    "f96a5569-4033-4b26-ba64-488d63b1450a": {
     "id": "f96a5569-4033-4b26-ba64-488d63b1450a",
     "prev": "d775407d-8d74-4a79-913b-453b0a0c3596",
     "regions": {
      "bc8a2310-bb01-49f8-90e3-0332635456d3": {
       "attrs": {
        "height": 0.8,
        "width": 0.8,
        "x": 0.1,
        "y": 0.1
       },
       "content": {
        "cell": "f3f1aeee-63f3-433e-af57-3464dfa57bf2",
        "part": "whole"
       },
       "id": "bc8a2310-bb01-49f8-90e3-0332635456d3"
      }
     }
    },
    "f9d1c873-a61a-47ee-89da-1f3a2759f414": {
     "id": "f9d1c873-a61a-47ee-89da-1f3a2759f414",
     "prev": "71451de1-4056-4231-b2a5-eb30bafbfd7b",
     "regions": {
      "671e2716-43fa-46ed-ab84-1c2c168c8eda": {
       "attrs": {
        "height": 0.8,
        "width": 0.8,
        "x": 0.1,
        "y": 0.1
       },
       "content": {
        "cell": "6b0c2e30-0a5c-401e-ba5f-92d5dacda543",
        "part": "whole"
       },
       "id": "671e2716-43fa-46ed-ab84-1c2c168c8eda"
      }
     }
    },
    "fa1b511b-e31b-4c05-aa09-4d600dcbdfcc": {
     "id": "fa1b511b-e31b-4c05-aa09-4d600dcbdfcc",
     "prev": "408233ab-3c6a-4049-956e-a763df659774",
     "regions": {
      "6f1a70fe-a174-4e92-b4ab-b027e5172e1a": {
       "attrs": {
        "height": 0.8,
        "width": 0.8,
        "x": 0.1,
        "y": 0.1
       },
       "content": {
        "cell": "993f7095-e455-4117-bbd6-c7114a36746e",
        "part": "whole"
       },
       "id": "6f1a70fe-a174-4e92-b4ab-b027e5172e1a"
      }
     }
    }
   },
   "themes": {}
  }
 },
 "nbformat": 4,
 "nbformat_minor": 2
}
